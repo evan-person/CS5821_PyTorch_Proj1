{
  "nbformat": 4,
  "nbformat_minor": 0,
  "metadata": {
    "colab": {
      "name": "CS5821Proj1",
      "provenance": [],
      "collapsed_sections": [],
      "authorship_tag": "ABX9TyOJRajsWqWkhJlhHJUJhXWP",
      "include_colab_link": true
    },
    "kernelspec": {
      "name": "python3",
      "display_name": "Python 3"
    }
  },
  "cells": [
    {
      "cell_type": "markdown",
      "metadata": {
        "id": "view-in-github",
        "colab_type": "text"
      },
      "source": [
        "<a href=\"https://colab.research.google.com/github/evan-person/CS5821_PyTorch_Proj1/blob/main/CS5821Proj1.ipynb\" target=\"_parent\"><img src=\"https://colab.research.google.com/assets/colab-badge.svg\" alt=\"Open In Colab\"/></a>"
      ]
    },
    {
      "cell_type": "markdown",
      "metadata": {
        "id": "Fz9Dr6ZFpTgj"
      },
      "source": [
        "# CS5821 Computational Intelligence HW1 Project \n",
        "## Evan Lucas\n",
        "\n"
      ]
    },
    {
      "cell_type": "markdown",
      "metadata": {
        "id": "YlfCsXqO6dBa"
      },
      "source": [
        "## General Discussion\n",
        "\n",
        "I took Machine Learning last semester, where we used TensorFlow + Keras for several assignments. Because I wanted a new challenge, I chose to use PyTorch for this assignment.\n",
        "\n",
        "PyTorch is a bit different from TensorFlow, and I think I prefer the workflow of designing a model in Keras. In the future, I'll go back to Keras, but at least I now can say I've used PyTorch.\n",
        "\n",
        "I started with a basic image recognition neural net with two convolutional layers and two fully connected layers. I probably made my fully connected layers too large in retrospect and my convolutional layers probably could have handled more filters, but I'm not going to change that at this moment.\n",
        "\n",
        "Pooling was used after each convolutional layer. Convolutional filters were chosen to be 5x5 because 3x3 seemed too small for some of the thick structures in images and larger seemed like too many parameters (which is silly when I have large fully connected layers). I considered using dropout, but ended up not adding it because I was fairly happy with results.\n",
        "\n",
        "\n",
        "One other thing that I did that seems strange in retrospect was using the same network, without reinitialization, for both datasets. This doesn't seem like the best usage case (since the images are very different) for transfer learning, but I guess that's what I'm technically doing.\n",
        "\n",
        "I started using SGD as an optimizer (because I actually understand it), but switched to Adam to try and improve performance. I was familiar with Adam after last semester and it seems to perform well. I didn't see any performance improvement after 10 epochs with the MNIST set, but it may have approached optimimum faster?\n",
        "\n",
        "One hyperparameter that needed tuning was the learning rate. With 1e-3, FashionMNIST wouldn't train at all. I also played with batch size to try and improve runtime. This led to me having to change my model everytime I wanted to change batch size, which is something that automatically updates in Keras/TF. In particular, the step where you flatten before going into the linear/fully connected layers caused me a bit of a headache.\n",
        "\n",
        "Coding and processing was done in Google Colab, an online Jupyter implementation. \n",
        "\n",
        "Conveniently, both datasets were in the PyTorch dataset repository. Data was normalized to a range of [-1,1], following some PyTorch documentation suggesting that. Because we normalized input data, we were able to use ReLU activation functions, which I selected based on good experiences with them last semester.\n",
        "\n",
        "\n",
        "I'm pretty happy with my 99% accuracy on MNIST. On Fashion-MNIST, 88% seems acceptable, based on some googling about typical benchmarking of traditional ML methods that give results in the 85%-90% range. There's probably room for improvement, however. If I was going to focus a lot of energy on this project, I'd use Cross Validation to divide the training data and test different model designs to select the model hyperparameters (including numbers of convolutional filters, dropout, fully connected neurons) I would also consider adding another convolutional layer, which would probably require removing a pooling layer or adding padding to my current convolutional layers. "
      ]
    },
    {
      "cell_type": "markdown",
      "metadata": {
        "id": "gddzCwD86djV"
      },
      "source": [
        "##Code starts below"
      ]
    },
    {
      "cell_type": "markdown",
      "metadata": {
        "id": "y31BHn9O761J"
      },
      "source": [
        "First we need to import the necessary PyTorch libraries"
      ]
    },
    {
      "cell_type": "code",
      "metadata": {
        "id": "a8gmpozapNht"
      },
      "source": [
        "#imports will follow pytorch.org tutorial imports as I am using this as an opportunity \n",
        "# to get used to PyTorch\n",
        "\n",
        "#Essential imports\n",
        "import matplotlib.pyplot as plt\n",
        "import numpy as np\n",
        "\n",
        "# PyTorch specific imports\n",
        "import torch\n",
        "import torchvision\n",
        "import torchvision.transforms as transforms\n",
        "\n",
        "# NN imports\n",
        "import torch.nn as nn\n",
        "import torch.nn.functional as F\n",
        "import torch.optim as optim\n",
        "\n",
        "#Import sklearn confusion matrix and classification report functions\n",
        "from sklearn.metrics import confusion_matrix\n",
        "from sklearn.metrics import classification_report\n",
        "\n",
        "#Import seaborn because it makes things pretty\n",
        "\n",
        "import seaborn as sn"
      ],
      "execution_count": 174,
      "outputs": []
    },
    {
      "cell_type": "markdown",
      "metadata": {
        "id": "HTzmcUhx7-6T"
      },
      "source": [
        "Next we will define the image import transform"
      ]
    },
    {
      "cell_type": "code",
      "metadata": {
        "id": "CgpPtEE1qFHF"
      },
      "source": [
        "# Image import transform\n",
        "transform = transforms.Compose( #compose combines multiolle image transforms\n",
        "    [transforms.ToTensor(), #this line converts the image to a tensor\n",
        "    transforms.Normalize((0.5,), (0.5,))]) #Following suggested normalization to bring into the range of [-1,1] by defining mean and std of 0.5\n"
      ],
      "execution_count": 92,
      "outputs": []
    },
    {
      "cell_type": "markdown",
      "metadata": {
        "id": "fYpnxhRyn-Xn"
      },
      "source": [
        "Load data and define dataloaders\n",
        "\n",
        "Starting with MNIST dataset"
      ]
    },
    {
      "cell_type": "code",
      "metadata": {
        "id": "Rpvrkfrwn-jY"
      },
      "source": [
        "\n",
        "# PyTorch includes MNIST and fasion-MNIST as sample datasets, so we can load this way\n",
        "trainData = torchvision.datasets.MNIST('./MNIST',\n",
        "    download=True,\n",
        "    train=True,\n",
        "    transform=transform)\n",
        "testData = torchvision.datasets.MNIST('./MNIST',\n",
        "    download=True,\n",
        "    train=False,\n",
        "    transform=transform)\n",
        "\n",
        "# Define dataloaders \n",
        "# Use a batch size of 4 for now. Could probably go larger later\n",
        "batchSize = 16 #define as global constant because it comes into play again later\n",
        "trainloader = torch.utils.data.DataLoader(trainData, batch_size=batchSize,\n",
        "                                        shuffle=True)\n",
        "\n",
        "\n",
        "testloader = torch.utils.data.DataLoader(testData, batch_size=batchSize,\n",
        "                                        shuffle=True)\n",
        "\n",
        "\n",
        "\n",
        "\n",
        "#Generate labels for classes\n",
        "classes = range(9)"
      ],
      "execution_count": 129,
      "outputs": []
    },
    {
      "cell_type": "markdown",
      "metadata": {
        "id": "doeiAQvPoRih"
      },
      "source": [
        "Look at data dimensions and plot a few images\n"
      ]
    },
    {
      "cell_type": "code",
      "metadata": {
        "id": "BjizGs7jvejD",
        "outputId": "a423e505-d88a-434f-a8d7-70a5b65da182",
        "colab": {
          "base_uri": "https://localhost:8080/",
          "height": 828
        }
      },
      "source": [
        "#Plot a couple images\n",
        "dataiter = iter(trainloader)\n",
        "images, labels = dataiter.next()\n",
        "\n",
        "for ii in range(3):\n",
        "  plt.imshow(images[ii,0,:,:],cmap='bone_r')\n",
        "  plt.title(labels[ii])\n",
        "  plt.show()\n",
        "\n",
        "#print  number of test and training points\n",
        "print('[%d data points in train set,  %d data points in test set]' % (len(trainData) , len(testData)))"
      ],
      "execution_count": 128,
      "outputs": [
        {
          "output_type": "display_data",
          "data": {
            "image/png": "[encoded data removed]",
            "text/plain": [
              "<Figure size 432x288 with 1 Axes>"
            ]
          },
          "metadata": {
            "tags": [],
            "needs_background": "light"
          }
        },
        {
          "output_type": "display_data",
          "data": {
            "image/png": "[encoded data removed]",
            "text/plain": [
              "<Figure size 432x288 with 1 Axes>"
            ]
          },
          "metadata": {
            "tags": [],
            "needs_background": "light"
          }
        },
        {
          "output_type": "display_data",
          "data": {
            "image/png": "[encoded data removed]",
            "text/plain": [
              "<Figure size 432x288 with 1 Axes>"
            ]
          },
          "metadata": {
            "tags": [],
            "needs_background": "light"
          }
        },
        {
          "output_type": "stream",
          "text": [
            "[60000 data points in train set,  10000 data points in test set]\n"
          ],
          "name": "stdout"
        }
      ]
    },
    {
      "cell_type": "markdown",
      "metadata": {
        "id": "ky3UcLa_rC4c"
      },
      "source": [
        "Confirm that we have successfully normalized our data"
      ]
    },
    {
      "cell_type": "code",
      "metadata": {
        "id": "PE_j1Zsn9OFN",
        "outputId": "dac87f27-5f94-42f6-d953-cbe1cd2a5b7e",
        "colab": {
          "base_uri": "https://localhost:8080/"
        }
      },
      "source": [
        "print(images.max())\n",
        "print(images.min())"
      ],
      "execution_count": 94,
      "outputs": [
        {
          "output_type": "stream",
          "text": [
            "tensor(1.)\n",
            "tensor(-1.)\n"
          ],
          "name": "stdout"
        }
      ]
    },
    {
      "cell_type": "markdown",
      "metadata": {
        "id": "NQQxSR1vtcv-"
      },
      "source": [
        "Define Neural Net"
      ]
    },
    {
      "cell_type": "code",
      "metadata": {
        "id": "r16dq31RvwAV"
      },
      "source": [
        "# Define a net\n",
        "#Notes, i'm not used to defining a neural net as a class, since I've mostly worked with Keras. \n",
        "#If I was a better object oriented programmer, I think I'd enjoy this method more\n",
        "\n",
        "\n",
        "#Overall structure\n",
        "#Two 2D convolutional layers, each 5x5 with 16 filters in each\n",
        "#2x2 max pooling after each conv layer\n",
        "# Two fully connected layers after the second pooling layer\n",
        "# One fully connected output layer\n",
        "\n",
        "#PyTorch defines the structure of the neural net first\n",
        "\n",
        "class Net(nn.Module):\n",
        "    def __init__(self):\n",
        "        super(Net, self).__init__()\n",
        "        self.conv1 = nn.Conv2d(1, 16, 5) #first number is number of channels (colors), second number is number of filters, third number is filter dim\n",
        "        self.pool = nn.MaxPool2d(2, 2) #2x2 max pooling\n",
        "        self.conv2 = nn.Conv2d(16, 16, 5) #same as first conv layer, but now we have 16 separate incoming arrays\n",
        "        self.fc1 = nn.Linear(4*4*batchSize, 120)#Had lots of issues debugging this one, but incoming dimension is 4x4 and you have batchsize\n",
        "        self.fc2 = nn.Linear(120, 84) #120 neurons may be excessive, as may 84\n",
        "        self.fc3 = nn.Linear(84, 10) #Need 10 neurons for output layer\n",
        "\n",
        "\n",
        "#The forward model gets defined separately in PyTorch, which seems weird to me\n",
        "    def forward(self, x):\n",
        "        x = self.pool(F.relu(self.conv1(x))) #Relu activation\n",
        "        \n",
        "        x = self.pool(F.relu(self.conv2(x)))\n",
        "        #print(x.shape) #gives me [8,16,4,4], which is batch, channels, height, width\n",
        "        x = x.view(-1, 4*4*batchSize) #This doesn't seem correct, but I guess this is how I'm supposed to reshape to flatten\n",
        "        x = F.relu(self.fc1(x))\n",
        "        x = F.relu(self.fc2(x))\n",
        "        #print(x.shape)\n",
        "        x = self.fc3(x)\n",
        "        #print(x.shape)\n",
        "        return x\n",
        "\n",
        "\n",
        "net = Net()"
      ],
      "execution_count": 142,
      "outputs": []
    },
    {
      "cell_type": "markdown",
      "metadata": {
        "id": "fNn8fJWYteWL"
      },
      "source": [
        "Define optimizer and loss function"
      ]
    },
    {
      "cell_type": "code",
      "metadata": {
        "id": "CWByZtWGbj17"
      },
      "source": [
        "lossFn = nn.CrossEntropyLoss() \n",
        "\n",
        "# Start with SGD because it's easy to understand. Maybe go with Adam later if that's available in PyTorch\n",
        "#optimizer = optim.SGD(net.parameters(), lr = 0.001, momentum = 0.9)\n",
        "#Update to Adam, given experience in ML class last semester\n",
        "optimizer = optim.Adam(net.parameters(), lr = 0.001)"
      ],
      "execution_count": 146,
      "outputs": []
    },
    {
      "cell_type": "markdown",
      "metadata": {
        "id": "jLmIgRSduymB"
      },
      "source": [
        "Create a loop to train the neural net\n",
        "\n",
        "I could have also included some dropout layers, but this doesn't seem to be necessary at this time.\n"
      ]
    },
    {
      "cell_type": "code",
      "metadata": {
        "id": "9aAsM5nObsqI",
        "outputId": "e59edfd7-f448-4a62-f289-13bead9804f8",
        "colab": {
          "base_uri": "https://localhost:8080/"
        }
      },
      "source": [
        "nEpochs = 20 #Started with 20, probably don't need that many\n",
        "for epoch in range(nEpochs):\n",
        "  runningLoss = 0.0 #create running total of loss so we can compare between epochs\n",
        "  for i, data in enumerate(trainloader,0): #loop through all data\n",
        "    inputs, labels = data #load data\n",
        "    optimizer.zero_grad() #need to set gradients to zero before we do backpropagation\n",
        "    outputs = net(inputs) #calc forward model\n",
        "    #print(outputs)\n",
        "    loss = lossFn(outputs, labels) #calc loss between actual and predicted\n",
        "    loss.backward() # calculated gradient\n",
        "    optimizer.step() # update based on calculated gradient\n",
        "\n",
        "    runningLoss += loss.item() #combine loss with previous loss\n",
        "    \n",
        "  print('Epoch: %d, Loss: %.3f' % (epoch +1, runningLoss/i)) #show loss normalized by number of batches\n",
        "  \n",
        "\n",
        "print('done')"
      ],
      "execution_count": 152,
      "outputs": [
        {
          "output_type": "stream",
          "text": [
            "Epoch: 1, Loss: 0.017\n",
            "Epoch: 2, Loss: 0.017\n",
            "Epoch: 3, Loss: 0.015\n",
            "Epoch: 4, Loss: 0.014\n",
            "Epoch: 5, Loss: 0.012\n",
            "Epoch: 6, Loss: 0.012\n",
            "Epoch: 7, Loss: 0.014\n",
            "Epoch: 8, Loss: 0.012\n",
            "Epoch: 9, Loss: 0.012\n",
            "Epoch: 10, Loss: 0.012\n",
            "Epoch: 11, Loss: 0.010\n",
            "Epoch: 12, Loss: 0.012\n",
            "Epoch: 13, Loss: 0.011\n",
            "Epoch: 14, Loss: 0.009\n",
            "Epoch: 15, Loss: 0.012\n",
            "Epoch: 16, Loss: 0.009\n",
            "Epoch: 17, Loss: 0.011\n",
            "Epoch: 18, Loss: 0.009\n",
            "Epoch: 19, Loss: 0.011\n",
            "Epoch: 20, Loss: 0.009\n",
            "done\n"
          ],
          "name": "stdout"
        }
      ]
    },
    {
      "cell_type": "markdown",
      "metadata": {
        "id": "Be2BGGjaxs23"
      },
      "source": [
        "Make a couple predictions and look at them"
      ]
    },
    {
      "cell_type": "code",
      "metadata": {
        "id": "BSWKFwCDb5c6",
        "outputId": "1c39368f-7169-43af-8356-5fdd07d91e8d",
        "colab": {
          "base_uri": "https://localhost:8080/",
          "height": 809
        }
      },
      "source": [
        "dataiter = iter(testloader)\n",
        "images, labels = dataiter.next()\n",
        "outputs = net(images)\n",
        "\n",
        "_, predicted = torch.max(outputs, 1)\n",
        "\n",
        "\n",
        "\n",
        "\n",
        "for ii in range(3):\n",
        "  plt.imshow(images[ii,0,:,:],cmap='bone_r')\n",
        "  plt.title(predicted[ii])\n",
        "  plt.show()\n"
      ],
      "execution_count": 156,
      "outputs": [
        {
          "output_type": "display_data",
          "data": {
            "image/png": "[encoded data removed]",
            "text/plain": [
              "<Figure size 432x288 with 1 Axes>"
            ]
          },
          "metadata": {
            "tags": [],
            "needs_background": "light"
          }
        },
        {
          "output_type": "display_data",
          "data": {
            "image/png": "[encoded data removed]",
            "text/plain": [
              "<Figure size 432x288 with 1 Axes>"
            ]
          },
          "metadata": {
            "tags": [],
            "needs_background": "light"
          }
        },
        {
          "output_type": "display_data",
          "data": {
            "image/png": "[encoded data removed]",
            "text/plain": [
              "<Figure size 432x288 with 1 Axes>"
            ]
          },
          "metadata": {
            "tags": [],
            "needs_background": "light"
          }
        }
      ]
    },
    {
      "cell_type": "markdown",
      "metadata": {
        "id": "4-rleWBTx3Mg"
      },
      "source": [
        "Load the full test set and evaluate test results"
      ]
    },
    {
      "cell_type": "code",
      "metadata": {
        "id": "hTbCmVBYsYJD"
      },
      "source": [
        "trueLabels = []; #initialize empty arrays to store true labels and predicted labels\n",
        "predLabels = [];\n",
        "with torch.no_grad(): #This tells PyTorch not to do gradient calculation during evaluation\n",
        "    for data in testloader: #iterate through data\n",
        "        images, labels = data\n",
        "        outputs = net(images)\n",
        "        _, predicted = torch.max(outputs.data, 1) #have to take the max to get the predicted class\n",
        "        trueLabels = np.concatenate((trueLabels,labels)) #concatenate results\n",
        "        predLabels = np.concatenate((predLabels,predicted))\n"
      ],
      "execution_count": 166,
      "outputs": []
    },
    {
      "cell_type": "code",
      "metadata": {
        "id": "aIl5URXGy-2y",
        "outputId": "2bbd544f-02d4-4b59-9f6d-a08539057cf4",
        "colab": {
          "base_uri": "https://localhost:8080/"
        }
      },
      "source": [
        "print(trueLabels.shape) #Just making sure all the data is there"
      ],
      "execution_count": 164,
      "outputs": [
        {
          "output_type": "stream",
          "text": [
            "(10000,)\n"
          ],
          "name": "stdout"
        }
      ]
    },
    {
      "cell_type": "markdown",
      "metadata": {
        "id": "E2bNPxIRz1vJ"
      },
      "source": [
        "Generate a confusion matrix and view it\n",
        "\n",
        "Also generate a report\n",
        "\n"
      ]
    },
    {
      "cell_type": "code",
      "metadata": {
        "id": "Dr7bMJHW0HXE",
        "outputId": "c7922794-a83b-4df7-c4f4-85133609b178",
        "colab": {
          "base_uri": "https://localhost:8080/",
          "height": 583
        }
      },
      "source": [
        "cmat = confusion_matrix(trueLabels, predLabels,normalize = 'true')\n",
        "sn.heatmap(cmat)\n",
        "\n",
        "print(classification_report(trueLabels, predLabels))\n"
      ],
      "execution_count": 175,
      "outputs": [
        {
          "output_type": "stream",
          "text": [
            "              precision    recall  f1-score   support\n",
            "\n",
            "         0.0       0.99      0.99      0.99       980\n",
            "         1.0       0.99      0.99      0.99      1135\n",
            "         2.0       0.99      0.99      0.99      1032\n",
            "         3.0       0.99      0.98      0.99      1010\n",
            "         4.0       0.99      0.99      0.99       982\n",
            "         5.0       0.99      1.00      0.99       892\n",
            "         6.0       0.99      0.99      0.99       958\n",
            "         7.0       0.99      0.98      0.98      1028\n",
            "         8.0       0.99      0.99      0.99       974\n",
            "         9.0       0.99      0.99      0.99      1009\n",
            "\n",
            "    accuracy                           0.99     10000\n",
            "   macro avg       0.99      0.99      0.99     10000\n",
            "weighted avg       0.99      0.99      0.99     10000\n",
            "\n"
          ],
          "name": "stdout"
        },
        {
          "output_type": "display_data",
          "data": {
            "image/png": "[encoded data removed]",
            "text/plain": [
              "<Figure size 432x288 with 2 Axes>"
            ]
          },
          "metadata": {
            "tags": [],
            "needs_background": "light"
          }
        }
      ]
    },
    {
      "cell_type": "markdown",
      "metadata": {
        "id": "mvWU5Nbv-35d"
      },
      "source": [
        "99% accuracy, yay!\n"
      ]
    },
    {
      "cell_type": "markdown",
      "metadata": {
        "id": "Dxn7QjaR0HzX"
      },
      "source": [
        "###On to Fashion MNIST!!\n",
        "\n",
        "Load the data"
      ]
    },
    {
      "cell_type": "code",
      "metadata": {
        "id": "0kOo7yCcy-5P"
      },
      "source": [
        "#Classes are copied from an example, there may be errors, but they seem OK\n",
        "classes = ['T-shirt/top', 'Trouser', 'Pullover', 'Dress', 'Coat',\n",
        "        'Sandal', 'Shirt', 'Sneaker', 'Bag', 'Ankle Boot']\n",
        "\n",
        "# Load datasets\n",
        "trainData = torchvision.datasets.FashionMNIST('./fashionMNIST',\n",
        "    download=True,\n",
        "    train=True,\n",
        "    transform=transform)\n",
        "testData = torchvision.datasets.FashionMNIST('./fashionMNIST',\n",
        "    download=True,\n",
        "    train=False,\n",
        "    transform=transform)\n",
        "\n",
        "# Specify dataloaders\n",
        "trainloader = torch.utils.data.DataLoader(trainData, batch_size=batchSize,\n",
        "                                        shuffle=True)\n",
        "\n",
        "\n",
        "testloader = torch.utils.data.DataLoader(testData, batch_size=batchSize,\n",
        "                                        shuffle=True)"
      ],
      "execution_count": 184,
      "outputs": []
    },
    {
      "cell_type": "markdown",
      "metadata": {
        "id": "Z-qcXW1g4IgZ"
      },
      "source": [
        "Let's check out some of the images"
      ]
    },
    {
      "cell_type": "code",
      "metadata": {
        "id": "7X9nfOMX4J75",
        "outputId": "8b93d58c-a7fa-4c02-f08b-6d261b4ad606",
        "colab": {
          "base_uri": "https://localhost:8080/",
          "height": 828
        }
      },
      "source": [
        "#Plot a couple images\n",
        "dataiter = iter(trainloader)\n",
        "images, labels = dataiter.next()\n",
        "\n",
        "for ii in range(3):\n",
        "  plt.imshow(images[ii,0,:,:],cmap='bone_r')\n",
        "  plt.title(classes[labels[ii]])\n",
        "  plt.show()\n",
        "\n",
        "#print  number of test and training points\n",
        "print('[%d data points in train set,  %d data points in test set]' % (len(trainData) , len(testData)))"
      ],
      "execution_count": 205,
      "outputs": [
        {
          "output_type": "display_data",
          "data": {
            "image/png": "[encoded data removed]",
            "text/plain": [
              "<Figure size 432x288 with 1 Axes>"
            ]
          },
          "metadata": {
            "tags": [],
            "needs_background": "light"
          }
        },
        {
          "output_type": "display_data",
          "data": {
            "image/png": "[encoded data removed]",
            "text/plain": [
              "<Figure size 432x288 with 1 Axes>"
            ]
          },
          "metadata": {
            "tags": [],
            "needs_background": "light"
          }
        },
        {
          "output_type": "display_data",
          "data": {
            "image/png": "[encoded data removed]",
            "text/plain": [
              "<Figure size 432x288 with 1 Axes>"
            ]
          },
          "metadata": {
            "tags": [],
            "needs_background": "light"
          }
        },
        {
          "output_type": "stream",
          "text": [
            "[60000 data points in train set,  10000 data points in test set]\n"
          ],
          "name": "stdout"
        }
      ]
    },
    {
      "cell_type": "markdown",
      "metadata": {
        "id": "gKBXGg592uZ9"
      },
      "source": [
        "Need to update my optimizer due to a too high learning rate"
      ]
    },
    {
      "cell_type": "code",
      "metadata": {
        "id": "m3NUPsdVy-72"
      },
      "source": [
        "lossFn = nn.CrossEntropyLoss() \n",
        "\n",
        "# Using Adam after previous success. Turning lr down an order of magnitude after early bad results\n",
        "optimizer = optim.Adam(net.parameters(), lr = 0.0001)"
      ],
      "execution_count": 177,
      "outputs": []
    },
    {
      "cell_type": "markdown",
      "metadata": {
        "id": "yNSUWaJz24t5"
      },
      "source": [
        "I really should have put this into a function, but I made it this far and I'm too lazy to go back and do that."
      ]
    },
    {
      "cell_type": "code",
      "metadata": {
        "id": "dmmLAItqtYty",
        "outputId": "89b77a2a-4ed8-4aa6-cdb6-955c49deaf39",
        "colab": {
          "base_uri": "https://localhost:8080/"
        }
      },
      "source": [
        "nEpochs = 20 \n",
        "for epoch in range(nEpochs):\n",
        "  runningLoss = 0.0 #create running total of loss so we can compare between epochs\n",
        "  for i, data in enumerate(trainloader,0): #loop through all data\n",
        "    inputs, labels = data #load data\n",
        "    optimizer.zero_grad() #need to set gradients to zero before we do backpropagation\n",
        "    outputs = net(inputs) #calc forward model\n",
        "    #print(outputs)\n",
        "    loss = lossFn(outputs, labels) #calc loss between actual and predicted\n",
        "    loss.backward() # calculated gradient\n",
        "    optimizer.step() # update based on calculated gradient\n",
        "\n",
        "    runningLoss += loss.item() #combine loss with previous loss\n",
        "    \n",
        "  print('Epoch: %d, Loss: %.3f' % (epoch +1, runningLoss/i)) #show loss normalized by number of batches\n",
        "  \n",
        "\n",
        "print('done')"
      ],
      "execution_count": 195,
      "outputs": [
        {
          "output_type": "stream",
          "text": [
            "Epoch: 1, Loss: 0.350\n",
            "Epoch: 2, Loss: 0.338\n",
            "Epoch: 3, Loss: 0.327\n",
            "Epoch: 4, Loss: 0.317\n",
            "Epoch: 5, Loss: 0.308\n",
            "Epoch: 6, Loss: 0.299\n",
            "Epoch: 7, Loss: 0.291\n",
            "Epoch: 8, Loss: 0.284\n",
            "Epoch: 9, Loss: 0.276\n",
            "Epoch: 10, Loss: 0.270\n",
            "Epoch: 11, Loss: 0.264\n",
            "Epoch: 12, Loss: 0.257\n",
            "Epoch: 13, Loss: 0.252\n",
            "Epoch: 14, Loss: 0.247\n",
            "Epoch: 15, Loss: 0.241\n",
            "Epoch: 16, Loss: 0.236\n",
            "Epoch: 17, Loss: 0.232\n",
            "Epoch: 18, Loss: 0.227\n",
            "Epoch: 19, Loss: 0.222\n",
            "Epoch: 20, Loss: 0.218\n",
            "done\n"
          ],
          "name": "stdout"
        }
      ]
    },
    {
      "cell_type": "markdown",
      "metadata": {
        "id": "k1z3o9Px3RMl"
      },
      "source": [
        "Evaluate model "
      ]
    },
    {
      "cell_type": "code",
      "metadata": {
        "id": "b59i96PFwFkC"
      },
      "source": [
        "trueLabels = []; #initialize empty arrays to store true labels and predicted labels\n",
        "predLabels = [];\n",
        "with torch.no_grad(): #This tells PyTorch not to do gradient calculation during evaluation\n",
        "    for data in testloader: #iterate through data\n",
        "        images, labels = data\n",
        "        outputs = net(images)\n",
        "        _, predicted = torch.max(outputs.data, 1) #have to take the max to get the predicted class\n",
        "        trueLabels = np.concatenate((trueLabels,labels)) #concatenate results\n",
        "        predLabels = np.concatenate((predLabels,predicted))\n"
      ],
      "execution_count": 196,
      "outputs": []
    },
    {
      "cell_type": "code",
      "metadata": {
        "id": "hv4t8hwI3byL",
        "outputId": "afe6b6df-8ee3-402c-bf02-4fb981e6e48f",
        "colab": {
          "base_uri": "https://localhost:8080/"
        }
      },
      "source": [
        "print(trueLabels.shape) #Just making sure all the data is there"
      ],
      "execution_count": 197,
      "outputs": [
        {
          "output_type": "stream",
          "text": [
            "(10000,)\n"
          ],
          "name": "stdout"
        }
      ]
    },
    {
      "cell_type": "code",
      "metadata": {
        "id": "hc_XjnIo3Y5S",
        "outputId": "29e10803-3b1a-45be-f5dc-a2ef8557d543",
        "colab": {
          "base_uri": "https://localhost:8080/",
          "height": 627
        }
      },
      "source": [
        "cmat = confusion_matrix(trueLabels, predLabels, normalize = 'true')\n",
        "sn.heatmap(cmat,yticklabels = classes, xticklabels = classes)\n",
        "\n",
        "print(classification_report(trueLabels, predLabels, target_names = classes))\n"
      ],
      "execution_count": 200,
      "outputs": [
        {
          "output_type": "stream",
          "text": [
            "              precision    recall  f1-score   support\n",
            "\n",
            " T-shirt/top       0.81      0.84      0.82      1000\n",
            "     Trouser       0.98      0.97      0.98      1000\n",
            "    Pullover       0.78      0.80      0.79      1000\n",
            "       Dress       0.88      0.90      0.89      1000\n",
            "        Coat       0.80      0.79      0.79      1000\n",
            "      Sandal       0.97      0.96      0.96      1000\n",
            "       Shirt       0.70      0.65      0.67      1000\n",
            "     Sneaker       0.94      0.94      0.94      1000\n",
            "         Bag       0.96      0.96      0.96      1000\n",
            "  Ankle Boot       0.95      0.96      0.96      1000\n",
            "\n",
            "    accuracy                           0.88     10000\n",
            "   macro avg       0.88      0.88      0.88     10000\n",
            "weighted avg       0.88      0.88      0.88     10000\n",
            "\n"
          ],
          "name": "stdout"
        },
        {
          "output_type": "display_data",
          "data": {
            "image/png": "[encoded data removed]",
            "text/plain": [
              "<Figure size 432x288 with 2 Axes>"
            ]
          },
          "metadata": {
            "tags": [],
            "needs_background": "light"
          }
        }
      ]
    },
    {
      "cell_type": "markdown",
      "metadata": {
        "id": "TcGCeQb2-8Y3"
      },
      "source": [
        "88% accuracy, not bad. Probably some room for improvement. I see that shirts are often confused for coats, pullovers, and t-shirt/tops, which seems like it would be hard for some humans to differentiate between"
      ]
    }
  ]
}